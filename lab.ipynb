#@title rep-1: What is the number inside the file: 'data/exercise1.txt'?

rep_1 = 42  #@param {type:"number"}

# Read assigned file
path = "data/exercise1.txt"

try:
    with open(ruta, "r") as f:
        real_value = int(f.read().strip())
    ok_1 = rep_1 == real_value
    print("Right!" if ok_1 else f"Wrong!")
except FileNotFoundError:
    ok_1 = False
    print(f"File not found: {path}")

